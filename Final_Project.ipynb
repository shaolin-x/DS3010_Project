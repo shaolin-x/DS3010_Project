{
 "cells": [
  {
   "cell_type": "markdown",
   "metadata": {},
   "source": [
    "# Final Project\n",
    "\n",
    "This is the python script to predict the date when the world will achieve herd immunity for COVID-19"
   ]
  },
  {
   "cell_type": "code",
   "execution_count": 49,
   "metadata": {},
   "outputs": [],
   "source": [
    "# Load and process data\n",
    "import pandas as pd\n",
    "from datetime import datetime\n",
    "\n",
    "# read data from csv file\n",
    "df = pd.read_csv(r'country_vaccinations.csv')\n",
    "\n",
    "# extract data we need\n",
    "iso_code = df.iso_code\n",
    "date = df.date\n",
    "tvph = df.total_vaccinations_per_hundred\n",
    "pfvph = df.people_fully_vaccinated_per_hundred\n",
    "# print(iso_code)\n",
    "# print(date)\n",
    "# print(tvph)\n",
    "# print(pfvph)"
   ]
  },
  {
   "cell_type": "code",
   "execution_count": 295,
   "metadata": {},
   "outputs": [],
   "source": [
    "# In this section the data will be put into two sorted dictionary to fit into the model\n",
    "\n",
    "total_date = {}\n",
    "\n",
    "for i in range(14994):\n",
    "    if tvph[i] != -1:\n",
    "        iso_date = \"20\"\n",
    "        split_date = date[i].split(\"/\")\n",
    "        iso_date = iso_date + split_date[2] + \"-\"\n",
    "        if len(split_date[0]) == 1:\n",
    "            iso_date += \"0\"\n",
    "        iso_date = iso_date + split_date[0] + \"-\"\n",
    "        if len(split_date[1]) == 1:\n",
    "            iso_date += \"0\"\n",
    "        iso_date += split_date[1]\n",
    "        date_timestamp = datetime.fromisoformat(iso_date).timestamp()\n",
    "        if date_timestamp not in total_date.keys():\n",
    "            total_date[date_timestamp] = []\n",
    "        total_date[date_timestamp].append(tvph[i])\n",
    "\n",
    "for key in total_date.keys():\n",
    "    total_value = 0\n",
    "    length = len(total_date[key])\n",
    "    for temp in total_date[key]:\n",
    "        total_value += temp\n",
    "    average = total_value/length\n",
    "    total_date[key] = average\n",
    "\n",
    "# print(total_date.keys())\n",
    "total_sorted = {}\n",
    "\n",
    "for key in sorted(total_date.keys()):\n",
    "    total_sorted[key] = total_date[key]\n",
    "    \n",
    "# print(total_sorted.keys())\n",
    "\n",
    "people_date = {}\n",
    "\n",
    "for i in range(14994):\n",
    "    if pfvph[i] != -1:\n",
    "        iso_date = \"20\"\n",
    "        split_date = date[i].split(\"/\")\n",
    "        iso_date = iso_date + split_date[2] + \"-\"\n",
    "        if len(split_date[0]) == 1:\n",
    "            iso_date += \"0\"\n",
    "        iso_date = iso_date + split_date[0] + \"-\"\n",
    "        if len(split_date[1]) == 1:\n",
    "            iso_date += \"0\"\n",
    "        iso_date += split_date[1]\n",
    "        date_timestamp = datetime.fromisoformat(iso_date).timestamp()\n",
    "        if date_timestamp not in people_date.keys():\n",
    "            people_date[date_timestamp] = []\n",
    "        people_date[date_timestamp].append(pfvph[i])\n",
    "\n",
    "for key in people_date.keys():\n",
    "    total_value = 0\n",
    "    length = len(people_date[key])\n",
    "    for temp in people_date[key]:\n",
    "        total_value += temp\n",
    "    average = total_value/length\n",
    "    people_date[key] = average\n",
    "    \n",
    "# print(people_date.keys())\n",
    "\n",
    "people_sorted = {}\n",
    "\n",
    "for key in sorted(people_date.keys()):\n",
    "    people_sorted[key] = people_date[key]"
   ]
  },
  {
   "cell_type": "code",
   "execution_count": 308,
   "metadata": {},
   "outputs": [
    {
     "name": "stdout",
     "output_type": "stream",
     "text": [
      "Explained Variance Score:  0.964376434428747\n",
      "Expected date of herd immunity:  2022-08-20 05:01:16.348340\n"
     ]
    },
    {
     "data": {
      "text/plain": [
       "[<matplotlib.lines.Line2D at 0x27256870970>]"
      ]
     },
     "execution_count": 308,
     "metadata": {},
     "output_type": "execute_result"
    },
    {
     "data": {
      "image/png": "[encoded data removed]",
      "text/plain": [
       "<Figure size 432x288 with 1 Axes>"
      ]
     },
     "metadata": {
      "needs_background": "light"
     },
     "output_type": "display_data"
    }
   ],
   "source": [
    "# In this section we fit total vaccination per hundred data into the SVM\n",
    "\n",
    "total_x = []\n",
    "total_y = []\n",
    "\n",
    "for key in total_sorted.keys():\n",
    "    total_x.append([total_sorted[key]])\n",
    "    total_y.append(key)\n",
    "\n",
    "from sklearn.model_selection import train_test_split\n",
    "X_train, X_test, y_train, y_test = train_test_split(total_x, total_y, train_size = 0.8, shuffle=True)\n",
    "\n",
    "from sklearn.svm import SVR\n",
    "# from sklearn.preprocessing import StandardScaler\n",
    "# sc = StandardScaler()\n",
    "# X_train = sc.fit_transform(X_train)\n",
    "# X_test = sc.transform(X_test)\n",
    "\n",
    "svr = SVR(kernel = 'linear', C=800, epsilon = 0.01)\n",
    "svr.fit(X_train, y_train)\n",
    "y_pred = svr.predict(X_test)\n",
    "\n",
    "from sklearn.metrics import accuracy_score\n",
    "from sklearn.metrics import explained_variance_score\n",
    "\n",
    "acc_evs = explained_variance_score(y_test, y_pred)\n",
    "print(\"Explained Variance Score: \", acc_evs)\n",
    "print(\"Expected date of herd immunity: \", datetime.fromtimestamp(svr.predict([[140]])[0]))\n",
    "import matplotlib.pyplot as plt\n",
    "plt.scatter(X_test, y_test, s=5, color=\"blue\", label=\"original\")\n",
    "plt.plot(X_test, y_pred, lw=2, color=\"red\", label=\"fitted\")\n"
   ]
  },
  {
   "cell_type": "code",
   "execution_count": 320,
   "metadata": {},
   "outputs": [
    {
     "name": "stdout",
     "output_type": "stream",
     "text": [
      "Explained Variance Score:  0.9607180800857309\n",
      "Expected date of herd immunity:  2022-12-30 08:48:57.154272\n"
     ]
    },
    {
     "data": {
      "text/plain": [
       "[<matplotlib.lines.Line2D at 0x27256ca8c70>]"
      ]
     },
     "execution_count": 320,
     "metadata": {},
     "output_type": "execute_result"
    },
    {
     "data": {
      "image/png": "[encoded data removed]",
      "text/plain": [
       "<Figure size 432x288 with 1 Axes>"
      ]
     },
     "metadata": {
      "needs_background": "light"
     },
     "output_type": "display_data"
    }
   ],
   "source": [
    "# In this section we fit people fully vaccinated per hundred into the SVM\n",
    "\n",
    "total_x = []\n",
    "total_y = []\n",
    "\n",
    "for key in people_sorted.keys():\n",
    "    total_x.append([people_sorted[key]])\n",
    "    total_y.append(key)\n",
    "\n",
    "from sklearn.model_selection import train_test_split\n",
    "X_train, X_test, y_train, y_test = train_test_split(total_x, total_y, train_size = 0.8, shuffle=True)\n",
    "\n",
    "from sklearn.svm import SVR\n",
    "# from sklearn.preprocessing import StandardScaler\n",
    "# sc = StandardScaler()\n",
    "# X_train = sc.fit_transform(X_train)\n",
    "# X_test = sc.transform(X_test)\n",
    "\n",
    "svr = SVR(kernel = 'linear', C=8000, epsilon = 0.01)\n",
    "svr.fit(X_train, y_train)\n",
    "y_pred = svr.predict(X_test)\n",
    "\n",
    "from sklearn.metrics import accuracy_score\n",
    "from sklearn.metrics import explained_variance_score\n",
    "\n",
    "acc_evs = explained_variance_score(y_test, y_pred)\n",
    "print(\"Explained Variance Score: \", acc_evs)\n",
    "print(\"Expected date of herd immunity: \", datetime.fromtimestamp(svr.predict([[70]])[0]))\n",
    "import matplotlib.pyplot as plt\n",
    "plt.scatter(X_test, y_test, s=5, color=\"blue\", label=\"original\")\n",
    "plt.plot(X_test, y_pred, lw=2, color=\"red\", label=\"fitted\")\n"
   ]
  },
  {
   "cell_type": "code",
   "execution_count": null,
   "metadata": {},
   "outputs": [],
   "source": []
  },
  {
   "cell_type": "code",
   "execution_count": null,
   "metadata": {},
   "outputs": [],
   "source": []
  }
 ],
 "metadata": {
  "kernelspec": {
   "display_name": "Python 3",
   "language": "python",
   "name": "python3"
  },
  "language_info": {
   "codemirror_mode": {
    "name": "ipython",
    "version": 3
   },
   "file_extension": ".py",
   "mimetype": "text/x-python",
   "name": "python",
   "nbconvert_exporter": "python",
   "pygments_lexer": "ipython3",
   "version": "3.8.5"
  }
 },
 "nbformat": 4,
 "nbformat_minor": 4
}
